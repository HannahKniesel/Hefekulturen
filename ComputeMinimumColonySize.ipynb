{
 "cells": [
  {
   "cell_type": "code",
   "execution_count": 1,
   "metadata": {},
   "outputs": [],
   "source": [
    "%load_ext autoreload\n",
    "%autoreload 2"
   ]
  },
  {
   "cell_type": "code",
   "execution_count": 2,
   "metadata": {},
   "outputs": [],
   "source": [
    "import pathlib\n",
    "from tqdm import tqdm\n",
    "\n",
    "from Utils import *\n"
   ]
  },
  {
   "attachments": {},
   "cell_type": "markdown",
   "metadata": {},
   "source": [
    "# Compute Minimum Colony Size\n",
    "Approximate the minimum colony size by considering the outliers on multiple plates"
   ]
  },
  {
   "cell_type": "code",
   "execution_count": 3,
   "metadata": {},
   "outputs": [
    {
     "name": "stdout",
     "output_type": "stream",
     "text": [
      "Try to approximate sizes by 34 plates\n"
     ]
    },
    {
     "name": "stderr",
     "output_type": "stream",
     "text": [
      "  0%|          | 0/34 [00:00<?, ?it/s]\n"
     ]
    },
    {
     "ename": "TypeError",
     "evalue": "compute_grid() missing 1 required positional argument: 'use_hard_grid'",
     "output_type": "error",
     "traceback": [
      "\u001b[1;31m---------------------------------------------------------------------------\u001b[0m",
      "\u001b[1;31mTypeError\u001b[0m                                 Traceback (most recent call last)",
      "Cell \u001b[1;32mIn[3], line 20\u001b[0m\n\u001b[0;32m     18\u001b[0m     x_expected \u001b[39m=\u001b[39m \u001b[39m48\u001b[39m \n\u001b[0;32m     19\u001b[0m     y_expected \u001b[39m=\u001b[39m \u001b[39m28\u001b[39m \n\u001b[1;32m---> 20\u001b[0m rgb_grid, plate_sizes, x_start, x_end, y_start, y_end \u001b[39m=\u001b[39m compute_grid(plate, x_expected, y_expected)\n\u001b[0;32m     21\u001b[0m \u001b[39mif\u001b[39;00m(\u001b[39mnot\u001b[39;00m np\u001b[39m.\u001b[39many(rgb_grid \u001b[39m==\u001b[39m \u001b[39mNone\u001b[39;00m)):\n\u001b[0;32m     22\u001b[0m     sizes\u001b[39m.\u001b[39mextend(plate_sizes\u001b[39m.\u001b[39mreshape(\u001b[39m-\u001b[39m\u001b[39m1\u001b[39m))\n",
      "\u001b[1;31mTypeError\u001b[0m: compute_grid() missing 1 required positional argument: 'use_hard_grid'"
     ]
    }
   ],
   "source": [
    "folder_to_plates = r\"C:\\Users\\Hannah\\Documents\\Hefekulturen\\Daten\\Data_May_2023/\"\n",
    "\n",
    "paths_plates = [str(item) for item in pathlib.Path(folder_to_plates).rglob(\"*\") if (not item.is_dir())]\n",
    "print(\"Try to approximate sizes by \"+str(len(paths_plates))+\" plates\")\n",
    "\n",
    "\n",
    "sizes = []\n",
    "i = 0\n",
    "for p in tqdm(paths_plates): \n",
    "    plate = open_image(p)\n",
    "    if(\"A\" in pathlib.Path(p).stem):\n",
    "        x_expected = 48 \n",
    "        y_expected = 32 \n",
    "    elif(\"B\" in pathlib.Path(p).stem):\n",
    "        x_expected = 48 \n",
    "        y_expected = 32 \n",
    "    elif(\"C\" in pathlib.Path(p).stem):\n",
    "        x_expected = 48 \n",
    "        y_expected = 28 \n",
    "    rgb_grid, plate_sizes, x_start, x_end, y_start, y_end = compute_grid(plate, x_expected, y_expected, use_hard_grid= False)\n",
    "    if(not np.any(rgb_grid == None)):\n",
    "        sizes.extend(plate_sizes.reshape(-1))\n",
    "        i += 1\n",
    "\n",
    "print(\"Approximated size by \"+str(i)+\" plates\")\n"
   ]
  },
  {
   "cell_type": "code",
   "execution_count": null,
   "metadata": {},
   "outputs": [
    {
     "name": "stdout",
     "output_type": "stream",
     "text": [
      "Recommended Minimum colony size = 43.0\n"
     ]
    }
   ],
   "source": [
    "\n",
    "sizes = np.array(sizes)\n",
    "\n",
    "percentile_75 = np.percentile(sizes, 75)\n",
    "percentile_25 = np.percentile(sizes, 25)\n",
    "iqr = percentile_75 - percentile_25\n",
    "max_outlier = percentile_75+1.5*iqr\n",
    "min_colonly = percentile_25-1*iqr\n",
    "\n",
    "if(min_colonly < 0):\n",
    "    min_colonly = np.percentile(sizes, 2)\n",
    "\n",
    "# print(\"Minimum colony size based on outlier= \"+str(min_outlier))\n",
    "print(\"Recommended Minimum colony size = \"+str(min_colonly))\n"
   ]
  },
  {
   "cell_type": "code",
   "execution_count": null,
   "metadata": {},
   "outputs": [
    {
     "data": {
      "image/png": "[encoded data removed]",
      "text/plain": [
       "<Figure size 640x480 with 1 Axes>"
      ]
     },
     "metadata": {},
     "output_type": "display_data"
    }
   ],
   "source": [
    "import matplotlib.pyplot as plt\n",
    "fig1, ax1 = plt.subplots()\n",
    "ax1.set_title('Colony Sizes')\n",
    "ax1.boxplot(sizes);\n",
    "ax1.plot([0,1,2],[min_colonly,min_colonly,min_colonly], c = \"r\", label=\"minimum colony size\")\n",
    "plt.legend()\n",
    "plt.show()"
   ]
  },
  {
   "cell_type": "code",
   "execution_count": null,
   "metadata": {},
   "outputs": [],
   "source": []
  }
 ],
 "metadata": {
  "kernelspec": {
   "display_name": "hefekulturen",
   "language": "python",
   "name": "python3"
  },
  "language_info": {
   "codemirror_mode": {
    "name": "ipython",
    "version": 3
   },
   "file_extension": ".py",
   "mimetype": "text/x-python",
   "name": "python",
   "nbconvert_exporter": "python",
   "pygments_lexer": "ipython3",
   "version": "3.11.0"
  },
  "orig_nbformat": 4
 },
 "nbformat": 4,
 "nbformat_minor": 2
}
